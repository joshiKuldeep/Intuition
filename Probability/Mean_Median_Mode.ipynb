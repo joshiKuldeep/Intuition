{
 "cells": [
  {
   "cell_type": "markdown",
   "metadata": {},
   "source": [
    "# Exercise_1: Mean and Median customer spend"
   ]
  },
  {
   "cell_type": "code",
   "execution_count": 6,
   "metadata": {},
   "outputs": [],
   "source": [
    "import numpy as np\n",
    "import matplotlib.pyplot as plt"
   ]
  },
  {
   "cell_type": "code",
   "execution_count": 7,
   "metadata": {},
   "outputs": [
    {
     "data": {
      "text/plain": [
       "array([111.34320647,  93.69725706, 109.72962609, ...,  99.0350711 ,\n",
       "        71.82829145, 107.72748099])"
      ]
     },
     "execution_count": 7,
     "metadata": {},
     "output_type": "execute_result"
    }
   ],
   "source": [
    "incomes= np.random.normal(100.0,20.0,10000)\n",
    "incomes"
   ]
  },
  {
   "cell_type": "code",
   "execution_count": 13,
   "metadata": {},
   "outputs": [
    {
     "data": {
      "image/png": "[encoded data removed]",
      "text/plain": [
       "<matplotlib.figure.Figure at 0x1d00dd77668>"
      ]
     },
     "metadata": {},
     "output_type": "display_data"
    }
   ],
   "source": [
    "plt.hist(incomes,50)\n",
    "plt.show()"
   ]
  },
  {
   "cell_type": "code",
   "execution_count": 16,
   "metadata": {},
   "outputs": [
    {
     "data": {
      "text/plain": [
       "100.07061035727635"
      ]
     },
     "execution_count": 16,
     "metadata": {},
     "output_type": "execute_result"
    }
   ],
   "source": [
    "np.mean(incomes)"
   ]
  },
  {
   "cell_type": "code",
   "execution_count": 17,
   "metadata": {},
   "outputs": [
    {
     "data": {
      "text/plain": [
       "100.19178380924907"
      ]
     },
     "execution_count": 17,
     "metadata": {},
     "output_type": "execute_result"
    }
   ],
   "source": [
    "np.median(incomes)"
   ]
  },
  {
   "cell_type": "code",
   "execution_count": 44,
   "metadata": {},
   "outputs": [
    {
     "data": {
      "text/plain": [
       "array([  111.34320647,    93.69725706,   109.72962609, ...,\n",
       "        1000.        , 10000.        , 10000.        ])"
      ]
     },
     "execution_count": 44,
     "metadata": {},
     "output_type": "execute_result"
    }
   ],
   "source": [
    "np.append(incomes,10000)\n"
   ]
  },
  {
   "cell_type": "code",
   "execution_count": 45,
   "metadata": {},
   "outputs": [
    {
     "name": "stdout",
     "output_type": "stream",
     "text": [
      "10003\n"
     ]
    }
   ],
   "source": [
    "print(np.size(incomes))"
   ]
  },
  {
   "cell_type": "code",
   "execution_count": 46,
   "metadata": {},
   "outputs": [
    {
     "data": {
      "image/png": "[encoded data removed]",
      "text/plain": [
       "<matplotlib.figure.Figure at 0x1d00e2d6630>"
      ]
     },
     "metadata": {},
     "output_type": "display_data"
    }
   ],
   "source": [
    "plt.hist(incomes,50)\n",
    "plt.show()"
   ]
  },
  {
   "cell_type": "code",
   "execution_count": 47,
   "metadata": {},
   "outputs": [
    {
     "data": {
      "text/plain": [
       "101.24023828579061"
      ]
     },
     "execution_count": 47,
     "metadata": {},
     "output_type": "execute_result"
    }
   ],
   "source": [
    "np.mean(incomes)"
   ]
  },
  {
   "cell_type": "code",
   "execution_count": 48,
   "metadata": {},
   "outputs": [
    {
     "data": {
      "text/plain": [
       "100.19261088779008"
      ]
     },
     "execution_count": 48,
     "metadata": {},
     "output_type": "execute_result"
    }
   ],
   "source": [
    "np.median(incomes)"
   ]
  },
  {
   "cell_type": "markdown",
   "metadata": {},
   "source": [
    "# Mode"
   ]
  },
  {
   "cell_type": "code",
   "execution_count": 52,
   "metadata": {},
   "outputs": [],
   "source": [
    "ages= np.random.randint(18, high=80, size=500)"
   ]
  },
  {
   "cell_type": "code",
   "execution_count": 53,
   "metadata": {},
   "outputs": [
    {
     "data": {
      "text/plain": [
       "array([65, 70, 55, 46, 66, 39, 65, 22, 74, 37, 75, 72, 24, 73, 72, 73, 71,\n",
       "       36, 62, 38, 74, 58, 44, 68, 74, 66, 63, 22, 20, 46, 44, 49, 70, 75,\n",
       "       37, 32, 41, 78, 67, 42, 59, 31, 70, 25, 69, 29, 49, 77, 42, 48, 79,\n",
       "       60, 50, 58, 73, 41, 25, 30, 28, 33, 74, 77, 27, 58, 20, 34, 35, 65,\n",
       "       60, 39, 70, 24, 71, 69, 41, 49, 48, 73, 56, 53, 74, 67, 36, 66, 66,\n",
       "       19, 25, 21, 20, 51, 50, 77, 66, 27, 56, 25, 51, 51, 73, 79, 19, 43,\n",
       "       71, 29, 52, 39, 75, 19, 27, 37, 61, 74, 53, 49, 67, 53, 69, 73, 52,\n",
       "       49, 69, 33, 51, 67, 62, 43, 41, 46, 28, 35, 32, 70, 48, 75, 67, 50,\n",
       "       61, 51, 53, 43, 58, 27, 42, 46, 38, 79, 23, 29, 24, 35, 67, 61, 48,\n",
       "       19, 27, 78, 22, 42, 46, 51, 43, 76, 70, 46, 62, 61, 66, 47, 31, 41,\n",
       "       32, 76, 24, 53, 42, 61, 21, 76, 77, 56, 47, 40, 48, 37, 37, 24, 73,\n",
       "       25, 44, 68, 32, 68, 20, 36, 28, 49, 36, 68, 45, 40, 47, 43, 40, 39,\n",
       "       35, 68, 41, 49, 36, 41, 58, 47, 49, 70, 53, 59, 32, 40, 78, 57, 54,\n",
       "       63, 50, 64, 27, 20, 55, 28, 69, 31, 67, 29, 27, 44, 46, 71, 49, 58,\n",
       "       36, 39, 58, 78, 76, 24, 74, 36, 43, 39, 53, 31, 25, 68, 51, 29, 50,\n",
       "       28, 57, 53, 47, 77, 36, 31, 36, 70, 75, 68, 52, 63, 54, 31, 54, 37,\n",
       "       45, 54, 27, 45, 24, 69, 22, 69, 50, 46, 69, 29, 42, 40, 23, 28, 76,\n",
       "       63, 38, 40, 52, 74, 50, 22, 52, 52, 51, 52, 49, 30, 28, 63, 25, 74,\n",
       "       61, 21, 70, 19, 56, 27, 76, 52, 19, 18, 66, 61, 75, 21, 69, 32, 38,\n",
       "       40, 40, 22, 21, 49, 29, 46, 35, 72, 43, 34, 44, 30, 45, 19, 20, 19,\n",
       "       42, 21, 68, 35, 30, 75, 32, 27, 78, 29, 46, 46, 46, 65, 63, 29, 68,\n",
       "       69, 63, 76, 65, 75, 37, 57, 22, 18, 48, 42, 73, 28, 41, 39, 44, 56,\n",
       "       23, 27, 31, 40, 37, 24, 37, 55, 53, 26, 56, 52, 78, 29, 41, 69, 74,\n",
       "       59, 39, 32, 60, 32, 45, 33, 52, 56, 43, 52, 25, 66, 52, 35, 40, 32,\n",
       "       41, 65, 41, 43, 31, 25, 55, 38, 57, 33, 38, 48, 73, 29, 45, 53, 75,\n",
       "       73, 56, 41, 36, 44, 66, 26, 79, 33, 70, 35, 54, 52, 27, 57, 75, 44,\n",
       "       30, 36, 74, 74, 65, 77, 38, 24, 62, 76, 45, 20, 19, 73, 52, 70, 65,\n",
       "       56, 36, 44, 55, 29, 77, 72, 74, 67, 47, 75, 77, 28, 23, 70, 58, 70,\n",
       "       79, 56, 33, 58, 70, 22, 66, 29, 21, 20, 49, 72, 23, 21, 65, 67, 67,\n",
       "       63, 59, 63, 40, 45, 56, 28])"
      ]
     },
     "execution_count": 53,
     "metadata": {},
     "output_type": "execute_result"
    }
   ],
   "source": [
    "ages"
   ]
  },
  {
   "cell_type": "code",
   "execution_count": 54,
   "metadata": {},
   "outputs": [
    {
     "data": {
      "text/plain": [
       "ModeResult(mode=array([52]), count=array([14]))"
      ]
     },
     "execution_count": 54,
     "metadata": {},
     "output_type": "execute_result"
    }
   ],
   "source": [
    "from scipy import stats\n",
    "stats.mode(ages)"
   ]
  },
  {
   "cell_type": "code",
   "execution_count": null,
   "metadata": {},
   "outputs": [],
   "source": []
  }
 ],
 "metadata": {
  "kernelspec": {
   "display_name": "Python 3",
   "language": "python",
   "name": "python3"
  },
  "language_info": {
   "codemirror_mode": {
    "name": "ipython",
    "version": 3
   },
   "file_extension": ".py",
   "mimetype": "text/x-python",
   "name": "python",
   "nbconvert_exporter": "python",
   "pygments_lexer": "ipython3",
   "version": "3.6.4"
  }
 },
 "nbformat": 4,
 "nbformat_minor": 2
}
